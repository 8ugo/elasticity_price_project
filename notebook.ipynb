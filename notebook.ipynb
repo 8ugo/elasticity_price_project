{
 "cells": [
  {
   "cell_type": "markdown",
   "id": "86f998db",
   "metadata": {},
   "source": [
    "# 0.0 Imports"
   ]
  },
  {
   "cell_type": "code",
   "execution_count": 7,
   "id": "657d9adf",
   "metadata": {
    "ExecuteTime": {
     "end_time": "2023-07-10T20:26:34.477478Z",
     "start_time": "2023-07-10T20:26:34.474081Z"
    }
   },
   "outputs": [],
   "source": [
    "import pandas as pd\n",
    "import numpy as np"
   ]
  },
  {
   "cell_type": "markdown",
   "id": "22ae9dfc",
   "metadata": {},
   "source": [
    "# 0.1 Loading Data"
   ]
  },
  {
   "cell_type": "code",
   "execution_count": 9,
   "id": "8be90412",
   "metadata": {
    "ExecuteTime": {
     "end_time": "2023-07-10T20:26:50.806481Z",
     "start_time": "2023-07-10T20:26:50.505619Z"
    }
   },
   "outputs": [],
   "source": [
    "df = pd.read_csv('data/df_ready.csv')"
   ]
  },
  {
   "cell_type": "code",
   "execution_count": null,
   "id": "97953fca",
   "metadata": {},
   "outputs": [],
   "source": []
  }
 ],
 "metadata": {
  "kernelspec": {
   "display_name": "Python 3 (ipykernel)",
   "language": "python",
   "name": "python3"
  },
  "language_info": {
   "codemirror_mode": {
    "name": "ipython",
    "version": 3
   },
   "file_extension": ".py",
   "mimetype": "text/x-python",
   "name": "python",
   "nbconvert_exporter": "python",
   "pygments_lexer": "ipython3",
   "version": "3.10.9"
  }
 },
 "nbformat": 4,
 "nbformat_minor": 5
}
