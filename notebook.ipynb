{
 "cells": [
  {
   "cell_type": "markdown",
   "id": "86f998db",
   "metadata": {},
   "source": [
    "# 0.0 Imports"
   ]
  },
  {
   "cell_type": "code",
   "execution_count": 16,
   "id": "657d9adf",
   "metadata": {
    "ExecuteTime": {
     "end_time": "2023-07-10T22:08:44.402758Z",
     "start_time": "2023-07-10T22:08:44.397341Z"
    }
   },
   "outputs": [],
   "source": [
    "import pandas as pd\n",
    "import numpy as np\n",
    "import inflection"
   ]
  },
  {
   "cell_type": "markdown",
   "id": "b3a90caf",
   "metadata": {},
   "source": [
    "# 0.1 Loading Data"
   ]
  },
  {
   "cell_type": "code",
   "execution_count": 17,
   "id": "6fdc7bb8",
   "metadata": {
    "ExecuteTime": {
     "end_time": "2023-07-10T22:08:45.106280Z",
     "start_time": "2023-07-10T22:08:44.849120Z"
    }
   },
   "outputs": [],
   "source": [
    "df_ready = pd.read_csv('dataset/df_ready.csv')"
   ]
  },
  {
   "cell_type": "markdown",
   "id": "25178519",
   "metadata": {},
   "source": [
    "# 1.0 Data Description"
   ]
  },
  {
   "cell_type": "code",
   "execution_count": 18,
   "id": "c118fcd9",
   "metadata": {
    "ExecuteTime": {
     "end_time": "2023-07-10T22:08:45.299861Z",
     "start_time": "2023-07-10T22:08:45.284488Z"
    }
   },
   "outputs": [],
   "source": [
    "df = df_ready.copy()"
   ]
  },
  {
   "cell_type": "markdown",
   "id": "145ec15d",
   "metadata": {},
   "source": [
    "## 1.1 Rename Columns"
   ]
  },
  {
   "cell_type": "code",
   "execution_count": 19,
   "id": "2776c860",
   "metadata": {
    "ExecuteTime": {
     "end_time": "2023-07-10T22:08:45.674815Z",
     "start_time": "2023-07-10T22:08:45.667617Z"
    }
   },
   "outputs": [],
   "source": [
    "cols_old = ['Unnamed: 0', 'Date_imp', 'Date_imp_d', 'Cluster', 'Category_name',\n",
    "            'name', 'price', 'disc_price', 'merchant', 'condition',\n",
    "            'Disc_percentage', 'isSale', 'Imp_count', 'brand', 'p_description',\n",
    "            'currency', 'dateAdded', 'dateSeen', 'dateUpdated', 'imageURLs',\n",
    "            'manufacturer', 'shipping', 'sourceURLs', 'weight', 'Date_imp_d.1',\n",
    "            'Day_n', 'month', 'month_n', 'day', 'Week_Number', 'Zscore_1', 'price_std']\n",
    "\n",
    "snakecase = lambda x: inflection.underscore(x)\n",
    "cols_new = list(map(snakecase, cols_old))\n",
    "\n",
    "df.columns = cols_new"
   ]
  },
  {
   "cell_type": "markdown",
   "id": "444783c2",
   "metadata": {},
   "source": [
    "## 1.2 Data Dimensions"
   ]
  },
  {
   "cell_type": "code",
   "execution_count": 20,
   "id": "5b64bf0e",
   "metadata": {
    "ExecuteTime": {
     "end_time": "2023-07-10T22:08:46.080867Z",
     "start_time": "2023-07-10T22:08:46.076203Z"
    }
   },
   "outputs": [
    {
     "name": "stdout",
     "output_type": "stream",
     "text": [
      "Number of Rows: 23151\n",
      "Number of Cols: 32\n"
     ]
    }
   ],
   "source": [
    "print('Number of Rows: {}'.format(df.shape[0]))\n",
    "print('Number of Cols: {}'.format(df.shape[1]))"
   ]
  },
  {
   "cell_type": "markdown",
   "id": "4ce3f643",
   "metadata": {},
   "source": [
    "## 1.3 Data Types"
   ]
  },
  {
   "cell_type": "code",
   "execution_count": 21,
   "id": "ae5189d3",
   "metadata": {
    "ExecuteTime": {
     "end_time": "2023-07-10T22:08:46.491251Z",
     "start_time": "2023-07-10T22:08:46.480126Z"
    }
   },
   "outputs": [
    {
     "data": {
      "text/plain": [
       "unnamed: 0           int64\n",
       "date_imp            object\n",
       "date_imp_d          object\n",
       "cluster              int64\n",
       "category_name       object\n",
       "name                object\n",
       "price              float64\n",
       "disc_price         float64\n",
       "merchant            object\n",
       "condition           object\n",
       "disc_percentage    float64\n",
       "is_sale             object\n",
       "imp_count            int64\n",
       "brand               object\n",
       "p_description       object\n",
       "currency            object\n",
       "date_added          object\n",
       "date_seen           object\n",
       "date_updated        object\n",
       "image_ur_ls         object\n",
       "manufacturer        object\n",
       "shipping            object\n",
       "source_ur_ls        object\n",
       "weight              object\n",
       "date_imp_d.1        object\n",
       "day_n               object\n",
       "month                int64\n",
       "month_n             object\n",
       "day                  int64\n",
       "week_number          int64\n",
       "zscore_1           float64\n",
       "price_std          float64\n",
       "dtype: object"
      ]
     },
     "execution_count": 21,
     "metadata": {},
     "output_type": "execute_result"
    }
   ],
   "source": [
    "df.dtypes"
   ]
  }
 ],
 "metadata": {
  "kernelspec": {
   "display_name": "Python 3 (ipykernel)",
   "language": "python",
   "name": "python3"
  },
  "language_info": {
   "codemirror_mode": {
    "name": "ipython",
    "version": 3
   },
   "file_extension": ".py",
   "mimetype": "text/x-python",
   "name": "python",
   "nbconvert_exporter": "python",
   "pygments_lexer": "ipython3",
   "version": "3.10.9"
  }
 },
 "nbformat": 4,
 "nbformat_minor": 5
}
